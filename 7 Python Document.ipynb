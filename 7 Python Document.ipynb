{
 "cells": [
  {
   "cell_type": "markdown",
   "metadata": {},
   "source": [
    "# Algorithms, Binary Search & Linked Lists"
   ]
  },
  {
   "cell_type": "markdown",
   "metadata": {},
   "source": [
    "## Tasks Today:\n",
    " \n",
    "1) <b>In-Place Algorithms</b> <br>\n",
    " &nbsp;&nbsp;&nbsp;&nbsp; a) Syntax <br>\n",
    " &nbsp;&nbsp;&nbsp;&nbsp; a) Out of Place Algorithm <br>\n",
    " &nbsp;&nbsp;&nbsp;&nbsp; b) In-Class Exercise #1 <br>\n",
    "2) <b>Two Pointers</b> <br>\n",
    "3) <b>Linked Lists</b> <br>\n",
    "4) <b>Merge Sort</b> <br>\n",
    " &nbsp;&nbsp;&nbsp;&nbsp; a) Video on Algorithms <br>\n",
    " &nbsp;&nbsp;&nbsp;&nbsp; b) How it Works <br>\n",
    "5) <b>Exercises</b> <br>\n",
    " &nbsp;&nbsp;&nbsp;&nbsp; a) Exercise #1 - Reverse a List in Place Using an In-Place Algorithm <br>\n",
    " &nbsp;&nbsp;&nbsp;&nbsp; b) Exercise #2 - Find Distinct Words <br>\n",
    " &nbsp;&nbsp;&nbsp;&nbsp; c) Exercise #3 - Write a program to implement a Linear Search Algorithm. <br>"
   ]
  },
  {
   "cell_type": "markdown",
   "metadata": {},
   "source": [
    "## In-Place Algorithms"
   ]
  },
  {
   "cell_type": "markdown",
   "metadata": {},
   "source": [
    "#### Syntax"
   ]
  },
  {
   "cell_type": "code",
   "execution_count": 19,
   "metadata": {},
   "outputs": [
    {
     "name": "stdout",
     "output_type": "stream",
     "text": [
      "Before swap: [20, 4, 10]\n",
      "After swap: [10, 4, 20]\n"
     ]
    },
    {
     "data": {
      "text/plain": [
       "[4, 10, 20]"
      ]
     },
     "execution_count": 19,
     "metadata": {},
     "output_type": "execute_result"
    }
   ],
   "source": [
    "# var[i],var[i+1]=var[i+1],var[i]\n",
    "\n",
    "#Sometimes known as a swap algorithm\n",
    "\n",
    "def swap(a_list,x,y,z):\n",
    "    \n",
    "    a_list[x],a_list[y],a_list[z] = a_list[z],a_list[y],a_list[x]\n",
    "    \n",
    "    return a_list\n",
    "\n",
    "my_list = [20,4,10]\n",
    "\n",
    "print(f'Before swap: {my_list}')\n",
    "\n",
    "#Swap\n",
    "\n",
    "swap(my_list,0,1,2)\n",
    "\n",
    "print(f'After swap: {my_list}')\n",
    "\n",
    "\n",
    "def swap2(alist):\n",
    "    \n",
    "    for i in range(0,len(alist)-1):\n",
    "        alist[i],alist[i+1]=alist[i+1],alist[i]\n",
    "        \n",
    "        return alist\n",
    "swap2(my_list)\n"
   ]
  },
  {
   "cell_type": "markdown",
   "metadata": {},
   "source": [
    "#### Out of Place Algorithm"
   ]
  },
  {
   "cell_type": "code",
   "execution_count": 7,
   "metadata": {},
   "outputs": [
    {
     "name": "stdout",
     "output_type": "stream",
     "text": [
      "Before  ['a', 'b', 'c', 'd']\n",
      "After ['d', 'c', 'b', 'a']\n"
     ]
    }
   ],
   "source": [
    "\n",
    "# Not swapping, completely reversing BUT also copies to another place in memory\n",
    "my_list_copy = my_list[::-1]\n",
    "\n",
    "#print(my_list_copy)\n",
    "#print(my_list)\n",
    "\n",
    "array = ['a','b','c','d']\n",
    "\n",
    "new_array = ['a']*len(array)\n",
    "\n",
    "print(\"Before \",array)\n",
    "\n",
    "lenght = len(array)-1\n",
    "\n",
    "for i in range(lenght):\n",
    "    new_array[i]=array[lenght-i]\n",
    "    \n",
    "array = new_array\n",
    "print(\"After\",array)"
   ]
  },
  {
   "cell_type": "markdown",
   "metadata": {},
   "source": [
    "#### In-Class Exercise #1 <br>\n",
    "<p>Write a function that takes in four arguments (list, index1, index2, index3), and swaps those three positions in the list passed in.</p>"
   ]
  },
  {
   "cell_type": "code",
   "execution_count": 25,
   "metadata": {},
   "outputs": [
    {
     "data": {
      "text/plain": [
       "[3, 4, 10, 8, 4, 2, 6]"
      ]
     },
     "execution_count": 25,
     "metadata": {},
     "output_type": "execute_result"
    }
   ],
   "source": [
    "list_1 = [10, 4, 3, 8, 4, 2, 6]\n",
    "\n",
    "\n",
    "def NewSwap(list_,index1,index2,index3):\n",
    "    \n",
    "    list_[index1],list_[index2],list_[index3]=list_[index3],list_[index2],list_[index1]\n",
    "    \n",
    "    return list_\n",
    "NewSwap(list_1,0,1,2)"
   ]
  },
  {
   "cell_type": "markdown",
   "metadata": {},
   "source": [
    "## Two Pointers"
   ]
  },
  {
   "cell_type": "markdown",
   "metadata": {},
   "source": [
    "#### Syntax"
   ]
  },
  {
   "cell_type": "code",
   "execution_count": 9,
   "metadata": {},
   "outputs": [
    {
     "data": {
      "text/plain": [
       "[22, 11, 8, 9, 12, 3, 2, 1]"
      ]
     },
     "execution_count": 9,
     "metadata": {},
     "output_type": "execute_result"
    }
   ],
   "source": [
    "# a list[left], alist[right] = alist[right],alist[left]\n",
    "\n",
    "def twoPointer(alist):\n",
    "    \n",
    "    #create pointer\n",
    "    \n",
    "    left = 0\n",
    "    right = len(alist)-1\n",
    "    \n",
    "    # set a loop that works through our list an swaps thing one pair at a time\n",
    "    \n",
    "    while left<= right:\n",
    "        \n",
    "        alist[left],alist[right]=alist[right],alist[left]\n",
    "        left+=1\n",
    "        right-=1\n",
    "        \n",
    "    return alist\n",
    "my_list2=[1,2,3,12,9,8,11,22]\n",
    "\n",
    "twoPointer(my_list2)\n"
   ]
  },
  {
   "cell_type": "markdown",
   "metadata": {},
   "source": [
    "#### Video of Algorithms <br>\n",
    "<p>Watch the video about algorithms.</p>\n",
    "\n",
    "https://www.youtube.com/watch?v=Q9HjeFD62Uk\n",
    "\n",
    "https://www.youtube.com/watch?v=kPRA0W1kECg\n",
    "\n",
    "https://www.youtube.com/watch?v=ZZuD6iUe3Pc"
   ]
  },
  {
   "cell_type": "markdown",
   "metadata": {},
   "source": [
    "# Sorting Algorithms"
   ]
  },
  {
   "cell_type": "markdown",
   "metadata": {},
   "source": [
    "#### Bubble Sort\n",
    "\n",
    "Worst Case: O(n^2) Time - O(1) Space"
   ]
  },
  {
   "cell_type": "code",
   "execution_count": 22,
   "metadata": {},
   "outputs": [
    {
     "data": {
      "text/plain": [
       "[1, 22, 34, 44, 55, 66, 88, 100]"
      ]
     },
     "execution_count": 22,
     "metadata": {},
     "output_type": "execute_result"
    }
   ],
   "source": [
    "# Best case: O(n)-linear\n",
    "\n",
    "def swap(i,j,array):\n",
    "    array[i], array[j]= array[j],array[i]\n",
    "    \n",
    "def bubbleSort(array):\n",
    "    isSorted = False\n",
    "    while not isSorted:\n",
    "        isSorted = True\n",
    "        for num in range(len(array)-1):\n",
    "            if array[num]> array[num+1]:\n",
    "                swap(num,num+1,array)\n",
    "                isSorted = False\n",
    "    return array\n",
    "\n",
    "bubbleSort([22,55,88,44,1,100,34,66])\n",
    "                \n",
    "        \n",
    "        \n",
    "        "
   ]
  },
  {
   "cell_type": "markdown",
   "metadata": {},
   "source": [
    "##### Insertion Sort\n",
    "\n",
    "Worst Case: O(n^2) time - O(1)space"
   ]
  },
  {
   "cell_type": "code",
   "execution_count": 23,
   "metadata": {},
   "outputs": [],
   "source": [
    "def swap(i,j,array):\n",
    "    array[i], array[j]= array[j],array[i]\n",
    "    \n",
    "def insertionSort(array):\n",
    "    \n",
    "    for i in range(1,len(array)):\n",
    "        \n",
    "        j = i\n",
    "        \n",
    "        while j > 0 and array[j] < array[j-1]:\n",
    "            \n",
    "            swap(j,j-1,array)\n",
    "            j-=1\n",
    "            \n",
    "    return array\n",
    "    \n",
    "    \n",
    "    \n"
   ]
  },
  {
   "cell_type": "markdown",
   "metadata": {},
   "source": [
    "## Merge Sort"
   ]
  },
  {
   "cell_type": "markdown",
   "metadata": {},
   "source": [
    "#### How it Works"
   ]
  },
  {
   "cell_type": "markdown",
   "metadata": {},
   "source": [
    "# Binary Search\n",
    "\n",
    "The Binary Search algorithm works by finding the number in the middle of a given array and comparing it to the target. Given that the array is sorted\n",
    "\n",
    "* The worst case run time for this algorithm is `O(log(n))`"
   ]
  },
  {
   "cell_type": "code",
   "execution_count": 11,
   "metadata": {},
   "outputs": [
    {
     "name": "stdout",
     "output_type": "stream",
     "text": [
      "Splitting... [2, 3, 4, 5, 6, 7, 2, 3, 34, 32, 56, 76, 23, 12, 66, 76, 99, 100, 120, 21]\n",
      "Splitting... [2, 3, 4, 5, 6, 7, 2, 3, 34, 32]\n",
      "Splitting... [2, 3, 4, 5, 6]\n",
      "Splitting... [2, 3]\n",
      "Splitting... [2]\n",
      "Splitting... [3]\n",
      "Merging...  [2, 3]\n",
      "Splitting... [4, 5, 6]\n",
      "Splitting... [4]\n",
      "Splitting... [5, 6]\n",
      "Splitting... [5]\n",
      "Splitting... [6]\n",
      "Merging...  [5, 6]\n",
      "Merging...  [4, 5, 6]\n",
      "Merging...  [2, 3, 4, 5, 6]\n",
      "Splitting... [7, 2, 3, 34, 32]\n",
      "Splitting... [7, 2]\n",
      "Splitting... [7]\n",
      "Splitting... [2]\n",
      "Merging...  [2, 7]\n",
      "Splitting... [3, 34, 32]\n",
      "Splitting... [3]\n",
      "Splitting... [34, 32]\n",
      "Splitting... [34]\n",
      "Splitting... [32]\n",
      "Merging...  [32, 34]\n",
      "Merging...  [3, 32, 34]\n",
      "Merging...  [2, 7, 3, 32, 34]\n",
      "Merging...  [2, 2, 3, 4, 5, 6, 7, 3, 32, 34]\n",
      "Splitting... [56, 76, 23, 12, 66, 76, 99, 100, 120, 21]\n",
      "Splitting... [56, 76, 23, 12, 66]\n",
      "Splitting... [56, 76]\n",
      "Splitting... [56]\n",
      "Splitting... [76]\n",
      "Merging...  [56, 76]\n",
      "Splitting... [23, 12, 66]\n",
      "Splitting... [23]\n",
      "Splitting... [12, 66]\n",
      "Splitting... [12]\n",
      "Splitting... [66]\n",
      "Merging...  [12, 66]\n",
      "Merging...  [12, 23, 66]\n",
      "Merging...  [12, 56, 76, 23, 66]\n",
      "Splitting... [76, 99, 100, 120, 21]\n",
      "Splitting... [76, 99]\n",
      "Splitting... [76]\n",
      "Splitting... [99]\n",
      "Merging...  [76, 99]\n",
      "Splitting... [100, 120, 21]\n",
      "Splitting... [100]\n",
      "Splitting... [120, 21]\n",
      "Splitting... [120]\n",
      "Splitting... [21]\n",
      "Merging...  [21, 120]\n",
      "Merging...  [21, 100, 120]\n",
      "Merging...  [21, 76, 99, 100, 120]\n",
      "Merging...  [12, 56, 76, 23, 66, 21, 76, 99, 100, 120]\n",
      "Merging...  [2, 2, 3, 4, 5, 6, 7, 3, 32, 34, 12, 56, 76, 23, 66, 21, 76, 99, 100, 120]\n"
     ]
    },
    {
     "data": {
      "text/plain": [
       "[2, 2, 3, 4, 5, 6, 7, 3, 32, 34, 12, 56, 76, 23, 66, 21, 76, 99, 100, 120]"
      ]
     },
     "execution_count": 11,
     "metadata": {},
     "output_type": "execute_result"
    }
   ],
   "source": [
    "# Step 1: Split : split everything into its own group\n",
    "# Step 2: From left to right, merge two groups together\n",
    "# Step 3:  While merging, place each item in the correct position within the merged rgroup\n",
    "# Step 4: continue steps 3-4 until only one group os left.\n",
    "\n",
    "from random import randint\n",
    "\n",
    "# used to generate a random list of 5 numbers from 0-20\n",
    "\n",
    "nums= [randint(0,20) for i in range(5)]\n",
    "\n",
    "# wWrite our merge sort below\n",
    "\n",
    "def mergeSort(alist):\n",
    "    \n",
    "    print(\"Splitting...\",alist)\n",
    "    \n",
    "    # Step 1: Divide the array into equal parts (as much as possible)\n",
    "    \n",
    "    if len(alist)>1:\n",
    "        \n",
    "        mid = len(alist)//2\n",
    "        \n",
    "        lefthalf = alist[:mid]\n",
    "        righthalf = alist[mid:]\n",
    "        \n",
    "        #recursiverly call mergeSort to perform spl,its if needed\n",
    "        # THEN merge once the splits are done\n",
    "        \n",
    "        mergeSort(lefthalf)\n",
    "        mergeSort(righthalf)\n",
    "        \n",
    "        # index pointers for our list\n",
    "        \n",
    "        i = 0 # pointers for our list\n",
    "    \n",
    "        j = 0 # pointers for our righthalf\n",
    "        k = 0 # pointer for our main array\n",
    "        \n",
    "        \n",
    "        # Step 2: compare the left half and the right half\n",
    "        \n",
    "        while i < len(lefthalf) and j < len(righthalf):\n",
    "            \n",
    "            if lefthalf[i] < righthalf[j]:\n",
    "                alist[k] = lefthalf[i]\n",
    "                i+=1\n",
    "            else:\n",
    "                \n",
    "                alist[k] = righthalf[j]\n",
    "                \n",
    "                j+=1\n",
    "            k +=1\n",
    "            \n",
    "            # Step 3: While merging place item in the corect position\n",
    "            \n",
    "            while i < len(lefthalf):\n",
    "                \n",
    "                alist[k]=lefthalf[i]\n",
    "                i+=1\n",
    "                k+=1\n",
    "            while j< len(righthalf):\n",
    "                \n",
    "                alist[k] = righthalf[j]\n",
    "                \n",
    "                j+=1\n",
    "                k+=1\n",
    "        print(\"Merging... \" ,alist)\n",
    "        return alist\n",
    "num2 = [2,3,4,5,6,7,2,3,34,32,56,76,23,12,66,76,99,100,120,21]    \n",
    "mergeSort(num2)\n",
    "        \n",
    "        \n",
    "\n"
   ]
  },
  {
   "cell_type": "code",
   "execution_count": 14,
   "metadata": {},
   "outputs": [
    {
     "data": {
      "text/plain": [
       "'The index is... 5'"
      ]
     },
     "execution_count": 14,
     "metadata": {},
     "output_type": "execute_result"
    }
   ],
   "source": [
    "# Binary Search\n",
    "\n",
    "# Less = Left \n",
    "\n",
    "# Greater = right\n",
    "\n",
    "# List of numbers MUST be sorted!!\n",
    "\n",
    "def binarySearchHelperFunction(array,target,left,right):\n",
    "    \n",
    "    while left<=right:\n",
    "        middle = (left+right)//2\n",
    "        \n",
    "        potentialMatch = array[middle]\n",
    "        \n",
    "        if target == potentialMatch:\n",
    "            return f\"The index is... {middle}\"\n",
    "        elif target < potentialMatch:\n",
    "            right = middle-1\n",
    "        else:\n",
    "            left = middle+1\n",
    "    return -1\n",
    "\n",
    "def binarySearch(array,target):\n",
    "    return binarySearchHelperFunction(array,target,0,len(array)-1)\n",
    "\n",
    "binarySearch([22,44,55,66,88,100],100)\n",
    "    \n",
    "            \n"
   ]
  },
  {
   "cell_type": "markdown",
   "metadata": {},
   "source": [
    "# Exercises"
   ]
  },
  {
   "cell_type": "markdown",
   "metadata": {},
   "source": [
    "### Exercise #1 <br>\n",
    "<p>Reverse the list below in-place using an in-place algorithm.<br>For extra credit: Reverse the strings at the same time.</p>"
   ]
  },
  {
   "cell_type": "code",
   "execution_count": 23,
   "metadata": {},
   "outputs": [
    {
     "data": {
      "text/plain": [
       "['.', 'ecnetnes', 'a', 'si', 'siht']"
      ]
     },
     "execution_count": 23,
     "metadata": {},
     "output_type": "execute_result"
    }
   ],
   "source": [
    "words = ['this' , 'is', 'a', 'sentence', '.']\n",
    "# Output: ['.','ecnetnes','a','si','sith']\n",
    "\n",
    "def reverseListinPlace(list_,i,j,k,z,l):\n",
    "    \n",
    "    \"\"\"\n",
    "    expected input a list of lenght four and the indices of each element in the list.\n",
    "    expected output a list of the same elements reversed in-place as well as the strings themselves reversed.\n",
    "    \n",
    "    \n",
    "    \n",
    "    \"\"\"\n",
    "    \n",
    "    list_[i],list_[j],list_[k],list_[z],list_[l]=list_[l],list_[z],list_[k],list_[j],list_[i]\n",
    "    list2= [i[::-1] for i in list_]\n",
    "    return list2\n",
    "\n",
    "\n",
    "\n",
    "reverseListinPlace(words,0,1,2,3,4)\n",
    "\n",
    "    \n",
    "    \n"
   ]
  },
  {
   "cell_type": "markdown",
   "metadata": {},
   "source": [
    "### Exercise #2 <br>\n",
    "<p>Create a function that counts how many distinct words are in the string below, then outputs a dictionary with the words as the key and the value as the amount of times that word appears in the string.<br>Should output:<br>{'a': 5,<br>\n",
    " 'abstract': 1,<br>\n",
    " 'an': 3,<br>\n",
    " 'array': 2, ... etc...</p>"
   ]
  },
  {
   "cell_type": "code",
   "execution_count": 43,
   "metadata": {},
   "outputs": [],
   "source": [
    "a_text = 'In computing, a hash table hash map is a data structure which implements an associative array abstract data type, a structure that can map keys to values. A hash table uses a hash function to compute an index into an array of buckets or slots from which the desired value can be found'\n",
    "\n",
    "def dictFunction(text):\n",
    "    \"\"\"\n",
    "    Expects a string text as input.\n",
    "    Outputs a dictionary of separate words and their individual counts.\n",
    "    \n",
    "    \"\"\"\n",
    "    dict_ = {}\n",
    "    for i in a_text.split():\n",
    "        dict_[i] = a_text.split().count(i)\n",
    "    return dict_\n",
    "\n"
   ]
  },
  {
   "cell_type": "markdown",
   "metadata": {},
   "source": [
    "## Exercise #3\n",
    "\n",
    "Write a program to implement a Linear Search Algorithm. Also in a comment, write the Time Complexity of the following algorithm.\n",
    "\n",
    "#### Hint: Linear Searching will require searching a list for a given number. "
   ]
  },
  {
   "cell_type": "code",
   "execution_count": 4,
   "metadata": {},
   "outputs": [
    {
     "name": "stdout",
     "output_type": "stream",
     "text": [
      "Your number is in index 4\n"
     ]
    }
   ],
   "source": [
    "\n",
    "def LinearSearch(list_,num):\n",
    "    \"\"\"\n",
    "    Expected input: a list and an int type\n",
    "    Expected output: index location of 'num'\n",
    "    \n",
    "    \n",
    "    The time complexity is O(num)\n",
    "    The space complexity is O(1)\n",
    "    \"\"\"\n",
    "    for i in range(len(list_)):\n",
    "        \n",
    "        if list_[i] ==  num:\n",
    "            print(f\"Your number is in index {i}\")\n",
    "            \n",
    "\n",
    "        \n",
    "        \n",
    "\n",
    "\n",
    "\n",
    "\n",
    "LinearSearch([12,34,3,6,2,9,19],2)\n",
    "\n"
   ]
  },
  {
   "cell_type": "code",
   "execution_count": null,
   "metadata": {},
   "outputs": [],
   "source": []
  }
 ],
 "metadata": {
  "kernelspec": {
   "display_name": "Python 3 (ipykernel)",
   "language": "python",
   "name": "python3"
  },
  "language_info": {
   "codemirror_mode": {
    "name": "ipython",
    "version": 3
   },
   "file_extension": ".py",
   "mimetype": "text/x-python",
   "name": "python",
   "nbconvert_exporter": "python",
   "pygments_lexer": "ipython3",
   "version": "3.9.13"
  }
 },
 "nbformat": 4,
 "nbformat_minor": 2
}
